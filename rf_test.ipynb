{
 "cells": [
  {
   "cell_type": "code",
   "execution_count": 41,
   "metadata": {},
   "outputs": [],
   "source": [
    "# import things\n",
    "import numpy as np\n",
    "from numpy import loadtxt\n",
    "from keras import backend as K\n",
    "from sklearn.ensemble import RandomForestRegressor\n",
    "from sklearn.datasets import make_regression\n",
    "from sklearn.metrics import mean_absolute_error as mae\n",
    "from sklearn.metrics import mean_squared_error as mse\n",
    "from sklearn.metrics import r2_score as r2"
   ]
  },
  {
   "cell_type": "code",
   "execution_count": 42,
   "metadata": {},
   "outputs": [],
   "source": [
    "# custom Magnitude of Relative Error metrics\n",
    "def mre(y_actual, y_pred):\n",
    "    res =  K.abs(y_actual - y_pred) / y_actual  \n",
    "    return res"
   ]
  },
  {
   "cell_type": "code",
   "execution_count": 43,
   "metadata": {},
   "outputs": [],
   "source": [
    "# setting numpy print option\n",
    "np.set_printoptions(suppress=True)"
   ]
  },
  {
   "cell_type": "code",
   "execution_count": 44,
   "metadata": {},
   "outputs": [
    {
     "name": "stdout",
     "output_type": "stream",
     "text": [
      "(77, 12)\n"
     ]
    }
   ],
   "source": [
    "# load the dataset\n",
    "dataset = loadtxt('desharnais.csv', delimiter=',')\n",
    "print(dataset.shape)"
   ]
  },
  {
   "cell_type": "code",
   "execution_count": 45,
   "metadata": {},
   "outputs": [
    {
     "name": "stdout",
     "output_type": "stream",
     "text": [
      "SPLIT POINT: 62\n",
      "TRAIN SHAPE: (62, 12)\n",
      "TEST SHAPE: (15, 12)\n"
     ]
    }
   ],
   "source": [
    "# spliting train and test datasets\n",
    "# defining split point\n",
    "split = int(round(dataset.shape[0] * 0.8))\n",
    "print('SPLIT POINT: %d' % split)\n",
    "# separating data\n",
    "train,test = dataset[:split,:],dataset[split:,:]\n",
    "print('TRAIN SHAPE: %s' % (train.shape,))\n",
    "print('TEST SHAPE: %s' % (test.shape,))\n",
    "#print(test)"
   ]
  },
  {
   "cell_type": "code",
   "execution_count": 46,
   "metadata": {},
   "outputs": [
    {
     "name": "stdout",
     "output_type": "stream",
     "text": [
      "TRAIN OUTPUT\n",
      "[ 5152.  5635.   805.  3829.  2149.  2821.  2569.  3913.  7854.  2422.\n",
      "  4067.  9051.  2282.  4172.  4977.  1617.  3192.  3437.  4494.   840.\n",
      " 14973.  5180.  5775. 10577.  3983.  3164.  3542.  4277.  7252.  3948.\n",
      "  3927.   710.  2429.  6405.   651.  9135.  1435.   847.  8050.  4620.\n",
      "  2352.  2174.  6699. 14987.  4004. 12824.  2331.  5817.  2989.  3136.\n",
      " 14434.  2583.  3647.  8232.  3276.  2723.  3472.  1575.  2926.  1876.\n",
      "  2520.  1603.]\n",
      "TRAIN INPUT\n",
      "[[  1.   4.  12. 253.  52. 305.  34. 302.   1.]\n",
      " [  0.   0.   4. 197. 124. 321.  33. 315.   1.]\n",
      " [  4.   4.   1.  40.  60. 100.  18.  83.   1.]\n",
      " [  0.   0.   5. 200. 119. 319.  30. 303.   1.]\n",
      " [  0.   0.   4. 140.  94. 234.  24. 208.   1.]\n",
      " [  0.   0.   4.  97.  89. 186.  38. 192.   1.]\n",
      " [  2.   1.   9. 119.  42. 161.  25. 145.   2.]\n",
      " [  1.   2.  13. 186.  52. 238.  25. 214.   1.]\n",
      " [  3.   1.  12. 172.  88. 260.  30. 247.   1.]\n",
      " [  3.   4.   4.  78.  38. 116.  24. 103.   1.]\n",
      " [  4.   1.  21. 167.  99. 266.  24. 237.   1.]\n",
      " [  2.   1.  17. 146. 112. 258.  40. 271.   1.]\n",
      " [  1.   1.   3.  33.  72. 105.  19.  88.   1.]\n",
      " [  3.   4.   8. 162.  61. 223.  32. 216.   1.]\n",
      " [  4.   4.   9. 223. 121. 344.  28. 320.   1.]\n",
      " [  3.   2.   8. 119.  48. 167.  26. 152.   2.]\n",
      " [  4.   3.   8.  57.  43. 100.  43. 108.   1.]\n",
      " [  4.   4.  14.  68. 316. 384.  20. 326.   2.]\n",
      " [  3.   4.  14.   9. 386. 395.  21. 340.   2.]\n",
      " [  4.   2.   5.  58.  34.  92.  29.  86.   1.]\n",
      " [  4.   4.  12. 318. 269. 587.  34. 581.   2.]\n",
      " [  2.   4.  18.  88. 170. 258.  34. 255.   1.]\n",
      " [  2.   4.   5. 306. 132. 438.  37. 447.   1.]\n",
      " [  4.   1.  20. 304.  78. 382.  39. 397.   1.]\n",
      " [  1.   4.   8.  89. 200. 289.  33. 283.   1.]\n",
      " [  4.   1.  14.  86. 230. 316.  33. 310.   1.]\n",
      " [  2.   0.   6.  71. 235. 306.  37. 312.   1.]\n",
      " [  3.   1.  14. 148. 324. 472.  39. 491.   1.]\n",
      " [  4.   4.  16. 116. 170. 286.  27. 263.   1.]\n",
      " [  4.   1.  14. 175. 277. 452.  37. 461.   1.]\n",
      " [  4.   3.   6.  79. 128. 207.  27. 190.   1.]\n",
      " [  1.   1.   9. 145.  38. 183.  27. 168.   3.]\n",
      " [  4.   4.   9. 174.  78. 252.  41. 267.   3.]\n",
      " [  1.   1.   5. 194.  91. 285.  35. 285.   1.]\n",
      " [  2.   2.   3. 126.  49. 175.  38. 180.   3.]\n",
      " [  1.   3.  17. 137. 119. 256.  34. 253.   2.]\n",
      " [  2.   4.  11. 289.  88. 377.  28. 351.   3.]\n",
      " [  1.   4.   4. 158.  59. 217.  18. 180.   3.]\n",
      " [  3.   3.  16. 302. 145. 447.  52. 523.   2.]\n",
      " [  1.   1.   9. 451.  48. 499.  28. 464.   1.]\n",
      " [  2.   4.  34. 661. 132. 793.  23. 698.   3.]\n",
      " [  1.   1.  10.  64.  54. 118.  25. 106.   1.]\n",
      " [  2.   1.  18. 182. 126. 308.  35. 308.   1.]\n",
      " [  2.   3.  27. 173. 332. 505.  19. 424.   1.]\n",
      " [  2.   2.   9. 252.   7. 259.  28. 241.   1.]\n",
      " [  4.   3.  11. 131. 180. 311.  51. 361.   1.]\n",
      " [  2.   3.   8. 106.  39. 145.   6. 103.   1.]\n",
      " [  3.   3.   9.  96. 108. 204.  29. 192.   1.]\n",
      " [  2.   3.   7. 116.  72. 188.  18. 156.   1.]\n",
      " [  3.   3.   6.  86.  49. 135.  32. 131.   1.]\n",
      " [  2.   3.  17. 221. 121. 342.  35. 342.   1.]\n",
      " [  1.   1.  12.  61.  96. 157.  18. 130.   1.]\n",
      " [  1.   3.  12. 132.  89. 221.   5. 155.   2.]\n",
      " [  3.   7.  13.  45. 387. 432.  16. 350.   2.]\n",
      " [  1.   1.  12.  55. 112. 167.  12. 129.   2.]\n",
      " [  1.   4.   8. 124.  52. 176.  14. 139.   2.]\n",
      " [  3.   3.   5. 120. 126. 246.  15. 197.   2.]\n",
      " [  1.   2.   6.  47.  32.  79.  14.  62.   2.]\n",
      " [  1.   1.  12. 126. 107. 233.  23. 205.   2.]\n",
      " [  3.   2.   6. 101.  45. 146.  15. 117.   2.]\n",
      " [  1.   1.   5.  78.  99. 177.  14. 140.   1.]\n",
      " [  4.   7.  13.  69.  74. 143.  14. 113.   1.]]\n",
      "TEST OUTPUT\n",
      "[ 3626. 11361.  1267.  2548.  1155.   546.  2275.  9100.   595. 13860.\n",
      "  1400.  2800.  9520.  5880. 23940.]\n",
      "TEST INPUT\n",
      "[[   1.    3.    8.  194.   97.  291.   35.  291.    2.]\n",
      " [   2.    4.   15.  323.  184.  507.   35.  507.    2.]\n",
      " [   1.    3.   10.   42.   31.   73.   27.   67.    2.]\n",
      " [   1.    2.    5.   74.   43.  117.   25.  105.    2.]\n",
      " [   3.    4.   10.  101.   57.  158.    9.  117.    2.]\n",
      " [   0.    4.    6.   97.   42.  139.    6.   99.    3.]\n",
      " [   2.    3.   13.  134.   77.  211.   13.  165.    2.]\n",
      " [   4.    5.   26.  482.  227.  709.   26.  645.    2.]\n",
      " [   0.    2.    6.  213.   73.  286.    6.  203.    3.]\n",
      " [   2.    3.   24.  473.  182.  655.   40.  688.    2.]\n",
      " [   4.    4.   12.  229.  169.  398.   39.  414.    3.]\n",
      " [   4.    3.   12.  227.   73.  300.   34.  297.    1.]\n",
      " [   4.    4.   24.  395.  193.  588.   40.  617.    1.]\n",
      " [   4.    3.   12.  469.  176.  645.   43.  697.    3.]\n",
      " [   4.    4.   36.  886.  241. 1127.   34. 1116.    1.]]\n"
     ]
    }
   ],
   "source": [
    "# selecting input and output values\n",
    "# train\n",
    "y_train = train[:,5]\n",
    "print('TRAIN OUTPUT')\n",
    "print(y_train)\n",
    "X_train = np.delete(train, [0,3,5], axis=1)\n",
    "print('TRAIN INPUT')\n",
    "print(X_train)\n",
    "\n",
    "# test\n",
    "y_test = test[:,5]\n",
    "print('TEST OUTPUT')\n",
    "print(y_test)\n",
    "X_test = np.delete(test, [0,3,5], axis=1)\n",
    "print('TEST INPUT')\n",
    "print(X_test)"
   ]
  },
  {
   "cell_type": "code",
   "execution_count": 47,
   "metadata": {},
   "outputs": [],
   "source": [
    "# model creation and training\n",
    "regr = RandomForestRegressor(criterion='mae', max_depth=2, n_estimators=1000, n_jobs=4, random_state=4, verbose=0)\n",
    "history = regr.fit(X_train, y_train)  "
   ]
  },
  {
   "cell_type": "code",
   "execution_count": 48,
   "metadata": {},
   "outputs": [
    {
     "name": "stdout",
     "output_type": "stream",
     "text": [
      "[0.00442356 0.00920889 0.17295109 0.02199548 0.07763945 0.32804593\n",
      " 0.12180449 0.2248495  0.03908162]\n",
      "AC: 3626.00 PR: 4707.51 MRE: 0.30\n",
      "AC: 11361.00 PR: 6967.82 MRE: 0.39\n",
      "AC: 1267.00 PR: 2272.55 MRE: 0.79\n",
      "AC: 2548.00 PR: 2389.74 MRE: 0.06\n",
      "AC: 1155.00 PR: 2448.35 MRE: 1.12\n",
      "AC: 546.00 PR: 2108.09 MRE: 2.86\n",
      "AC: 2275.00 PR: 2861.14 MRE: 0.26\n",
      "AC: 9100.00 PR: 8363.23 MRE: 0.08\n",
      "AC: 595.00 PR: 4031.59 MRE: 5.78\n",
      "AC: 13860.00 PR: 9234.19 MRE: 0.33\n",
      "AC: 1400.00 PR: 5718.66 MRE: 3.08\n",
      "AC: 2800.00 PR: 4845.30 MRE: 0.73\n",
      "AC: 9520.00 PR: 9259.24 MRE: 0.03\n",
      "AC: 5880.00 PR: 7654.23 MRE: 0.30\n",
      "AC: 23940.00 PR: 8693.94 MRE: 0.64\n"
     ]
    }
   ],
   "source": [
    "# prediction and evaluating\n",
    "print(regr.feature_importances_)\n",
    "pred_train = regr.predict(X_train)\n",
    "pred_test = regr.predict(X_test)\n",
    "i = 0\n",
    "for predic in pred_test:\n",
    "    actual = y_test[i]\n",
    "    i+=1\n",
    "    mre =  abs(actual - predic) / actual\n",
    "    print('AC: %.2f PR: %.2f MRE: %.2f' % (actual,predic,mre))\n",
    "# test_mae = mae\n",
    "# train_mae\n",
    "# mse\n",
    "# r2"
   ]
  }
 ],
 "metadata": {
  "kernelspec": {
   "display_name": "Python 3",
   "language": "python",
   "name": "python3"
  },
  "language_info": {
   "codemirror_mode": {
    "name": "ipython",
    "version": 3
   },
   "file_extension": ".py",
   "mimetype": "text/x-python",
   "name": "python",
   "nbconvert_exporter": "python",
   "pygments_lexer": "ipython3",
   "version": "3.7.3"
  }
 },
 "nbformat": 4,
 "nbformat_minor": 2
}
