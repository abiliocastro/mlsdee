{
 "cells": [
  {
   "cell_type": "code",
   "execution_count": 4,
   "metadata": {},
   "outputs": [
    {
     "name": "stderr",
     "output_type": "stream",
     "text": [
      "Using TensorFlow backend.\n",
      "/home/abilio/anaconda3/lib/python3.7/site-packages/tensorflow/python/framework/dtypes.py:516: FutureWarning: Passing (type, 1) or '1type' as a synonym of type is deprecated; in a future version of numpy, it will be understood as (type, (1,)) / '(1,)type'.\n",
      "  _np_qint8 = np.dtype([(\"qint8\", np.int8, 1)])\n",
      "/home/abilio/anaconda3/lib/python3.7/site-packages/tensorflow/python/framework/dtypes.py:517: FutureWarning: Passing (type, 1) or '1type' as a synonym of type is deprecated; in a future version of numpy, it will be understood as (type, (1,)) / '(1,)type'.\n",
      "  _np_quint8 = np.dtype([(\"quint8\", np.uint8, 1)])\n",
      "/home/abilio/anaconda3/lib/python3.7/site-packages/tensorflow/python/framework/dtypes.py:518: FutureWarning: Passing (type, 1) or '1type' as a synonym of type is deprecated; in a future version of numpy, it will be understood as (type, (1,)) / '(1,)type'.\n",
      "  _np_qint16 = np.dtype([(\"qint16\", np.int16, 1)])\n",
      "/home/abilio/anaconda3/lib/python3.7/site-packages/tensorflow/python/framework/dtypes.py:519: FutureWarning: Passing (type, 1) or '1type' as a synonym of type is deprecated; in a future version of numpy, it will be understood as (type, (1,)) / '(1,)type'.\n",
      "  _np_quint16 = np.dtype([(\"quint16\", np.uint16, 1)])\n",
      "/home/abilio/anaconda3/lib/python3.7/site-packages/tensorflow/python/framework/dtypes.py:520: FutureWarning: Passing (type, 1) or '1type' as a synonym of type is deprecated; in a future version of numpy, it will be understood as (type, (1,)) / '(1,)type'.\n",
      "  _np_qint32 = np.dtype([(\"qint32\", np.int32, 1)])\n",
      "/home/abilio/anaconda3/lib/python3.7/site-packages/tensorflow/python/framework/dtypes.py:525: FutureWarning: Passing (type, 1) or '1type' as a synonym of type is deprecated; in a future version of numpy, it will be understood as (type, (1,)) / '(1,)type'.\n",
      "  np_resource = np.dtype([(\"resource\", np.ubyte, 1)])\n",
      "/home/abilio/anaconda3/lib/python3.7/site-packages/tensorboard/compat/tensorflow_stub/dtypes.py:541: FutureWarning: Passing (type, 1) or '1type' as a synonym of type is deprecated; in a future version of numpy, it will be understood as (type, (1,)) / '(1,)type'.\n",
      "  _np_qint8 = np.dtype([(\"qint8\", np.int8, 1)])\n",
      "/home/abilio/anaconda3/lib/python3.7/site-packages/tensorboard/compat/tensorflow_stub/dtypes.py:542: FutureWarning: Passing (type, 1) or '1type' as a synonym of type is deprecated; in a future version of numpy, it will be understood as (type, (1,)) / '(1,)type'.\n",
      "  _np_quint8 = np.dtype([(\"quint8\", np.uint8, 1)])\n",
      "/home/abilio/anaconda3/lib/python3.7/site-packages/tensorboard/compat/tensorflow_stub/dtypes.py:543: FutureWarning: Passing (type, 1) or '1type' as a synonym of type is deprecated; in a future version of numpy, it will be understood as (type, (1,)) / '(1,)type'.\n",
      "  _np_qint16 = np.dtype([(\"qint16\", np.int16, 1)])\n",
      "/home/abilio/anaconda3/lib/python3.7/site-packages/tensorboard/compat/tensorflow_stub/dtypes.py:544: FutureWarning: Passing (type, 1) or '1type' as a synonym of type is deprecated; in a future version of numpy, it will be understood as (type, (1,)) / '(1,)type'.\n",
      "  _np_quint16 = np.dtype([(\"quint16\", np.uint16, 1)])\n",
      "/home/abilio/anaconda3/lib/python3.7/site-packages/tensorboard/compat/tensorflow_stub/dtypes.py:545: FutureWarning: Passing (type, 1) or '1type' as a synonym of type is deprecated; in a future version of numpy, it will be understood as (type, (1,)) / '(1,)type'.\n",
      "  _np_qint32 = np.dtype([(\"qint32\", np.int32, 1)])\n",
      "/home/abilio/anaconda3/lib/python3.7/site-packages/tensorboard/compat/tensorflow_stub/dtypes.py:550: FutureWarning: Passing (type, 1) or '1type' as a synonym of type is deprecated; in a future version of numpy, it will be understood as (type, (1,)) / '(1,)type'.\n",
      "  np_resource = np.dtype([(\"resource\", np.ubyte, 1)])\n"
     ]
    }
   ],
   "source": [
    "# import libraries\n",
    "import pydot\n",
    "import numpy as np\n",
    "from numpy import loadtxt\n",
    "from keras import backend as K\n",
    "from sklearn.ensemble import RandomForestRegressor\n",
    "from sklearn.datasets import make_regression\n",
    "from sklearn.metrics import mean_absolute_error as mae\n",
    "from sklearn.metrics import mean_squared_error as mse\n",
    "from sklearn.model_selection import KFold\n",
    "from sklearn.tree import export_graphviz\n",
    "from random import seed, randint\n",
    "from matplotlib import pyplot"
   ]
  },
  {
   "cell_type": "code",
   "execution_count": 5,
   "metadata": {},
   "outputs": [],
   "source": [
    "# setting numpy print option\n",
    "np.set_printoptions(suppress=True)"
   ]
  },
  {
   "cell_type": "code",
   "execution_count": 6,
   "metadata": {},
   "outputs": [
    {
     "name": "stdout",
     "output_type": "stream",
     "text": [
      "(77, 12)\n"
     ]
    }
   ],
   "source": [
    "# load the dataset\n",
    "dataset = loadtxt('desharnais.csv', delimiter=',')\n",
    "print(dataset.shape)"
   ]
  },
  {
   "cell_type": "code",
   "execution_count": 7,
   "metadata": {},
   "outputs": [],
   "source": [
    "# selecting input and output\n",
    "X = np.delete(dataset, [0,3,5], axis=1)\n",
    "y = dataset[:,5]"
   ]
  },
  {
   "cell_type": "code",
   "execution_count": 8,
   "metadata": {},
   "outputs": [
    {
     "name": "stdout",
     "output_type": "stream",
     "text": [
      "FOLD: 1\n",
      "TRAIN | mse: 1418164.258, mae: 786.716\n",
      "TEST  | mse: 1477410.637, mae: 1065.592\n",
      "FOLD: 2\n",
      "TRAIN | mse: 1578950.967, mae: 816.273\n",
      "TEST  | mse: 3381422.192, mae: 1345.556\n",
      "FOLD: 3\n",
      "TRAIN | mse: 1456269.621, mae: 745.194\n",
      "TEST  | mse: 12975052.100, mae: 2562.247\n",
      "FOLD: 4\n",
      "TRAIN | mse: 1504193.919, mae: 787.036\n",
      "TEST  | mse: 13037773.883, mae: 2914.763\n",
      "FOLD: 5\n",
      "TRAIN | mse: 1612804.023, mae: 783.872\n",
      "TEST  | mse: 6617726.770, mae: 2408.021\n",
      "FOLD: 6\n",
      "TRAIN | mse: 968942.917, mae: 672.583\n",
      "TEST  | mse: 25523585.971, mae: 3687.430\n",
      "FOLD: 7\n",
      "TRAIN | mse: 1243481.212, mae: 753.279\n",
      "TEST  | mse: 8372125.826, mae: 1854.807\n",
      "FOLD: 8\n",
      "TRAIN | mse: 1416487.571, mae: 825.753\n",
      "TEST  | mse: 823156.709, mae: 758.309\n",
      "FOLD: 9\n",
      "TRAIN | mse: 1836066.292, mae: 854.570\n",
      "TEST  | mse: 2033144.020, mae: 1163.571\n",
      "FOLD: 10\n",
      "TRAIN | mse: 1208699.460, mae: 736.724\n",
      "TEST  | mse: 43919171.570, mae: 4791.599\n"
     ]
    }
   ],
   "source": [
    "# model creation, training and evaluation\n",
    "seed(1)\n",
    "kf = KFold(n_splits=10)\n",
    "f = 1\n",
    "all_train_mse = np.array([])\n",
    "all_train_mae = np.array([])\n",
    "all_test_mse = np.array([])\n",
    "all_test_mae = np.array([])\n",
    "for train_index, test_index in kf.split(X):\n",
    "    # defining train and test sets for input and output\n",
    "    X_train, X_test = X[train_index], X[test_index]\n",
    "    y_train, y_test = y[train_index], y[test_index]\n",
    "    \n",
    "    # defining model\n",
    "    rs = randint(2, 13)\n",
    "    model = RandomForestRegressor(criterion='mse', max_depth=12, n_estimators=100, random_state=rs, verbose=0)\n",
    "    model.fit(X_train, y_train)  \n",
    "    \n",
    "    # making predictions\n",
    "    pred_train = model.predict(X_train)\n",
    "    pred_test = model.predict(X_test)\n",
    "    \n",
    "    # defing metrics values\n",
    "    train_mse = mse(y_train, pred_train)\n",
    "    train_mae = mae(y_train, pred_train)\n",
    "    test_mse = mse(y_test, pred_test)\n",
    "    test_mae = mae(y_test, pred_test)\n",
    "    \n",
    "    # storing each fold metrics in nparray\n",
    "    all_train_mse = np.append(all_train_mse,train_mse)\n",
    "    all_train_mae = np.append(all_train_mae,train_mae)\n",
    "    all_test_mse = np.append(all_test_mse,test_mse)\n",
    "    all_test_mae = np.append(all_test_mae,test_mae)\n",
    "    \n",
    "    print('FOLD: %d' % f)\n",
    "    print('TRAIN | mse: %.3f, mae: %.3f' % (train_mse, train_mae))\n",
    "    print('TEST  | mse: %.3f, mae: %.3f' % (test_mse, test_mae))\n",
    "    f+=1"
   ]
  },
  {
   "cell_type": "code",
   "execution_count": 15,
   "metadata": {},
   "outputs": [
    {
     "name": "stdout",
     "output_type": "stream",
     "text": [
      "RF TRAIN METRICS MEAN AFTER 10 FOLDS\n",
      "MSE: 1424406.024 | MAE: 776.200\n",
      "RF TEST METRICS MEAN AFTER 10 FOLDS\n",
      "MSE: 11816056.968 | MAE: 2255.190\n"
     ]
    }
   ],
   "source": [
    "mean_mse_train = np.mean(all_train_mse)\n",
    "mean_mae_train = np.mean(all_train_mae)\n",
    "mean_mse_test = np.mean(all_test_mse)\n",
    "mean_mae_test = np.mean(all_test_mae)\n",
    "\n",
    "print('RF TRAIN METRICS MEAN AFTER 10 FOLDS')\n",
    "print('MSE: %.3f | MAE: %.3f' % (mean_mse_train, mean_mae_train))\n",
    "print('RF TEST METRICS MEAN AFTER 10 FOLDS')\n",
    "print('MSE: %.3f | MAE: %.3f' % (mean_mse_test, mean_mae_test))"
   ]
  },
  {
   "cell_type": "code",
   "execution_count": 16,
   "metadata": {},
   "outputs": [
    {
     "data": {
      "image/png": "[encoded data removed]",
      "text/plain": [
       "<Figure size 432x288 with 1 Axes>"
      ]
     },
     "metadata": {
      "needs_background": "light"
     },
     "output_type": "display_data"
    }
   ],
   "source": [
    "# plot rf mse metric variation\n",
    "pyplot.title('RF Variação MSE em 10-Folds')\n",
    "pyplot.plot(all_train_mse, label='Treino')\n",
    "pyplot.plot(all_test_mse, label='Teste')\n",
    "pyplot.xlim(0,9)\n",
    "pyplot.xlabel(\"Execuções do Modelo\")\n",
    "pyplot.legend()\n",
    "pyplot.show()"
   ]
  },
  {
   "cell_type": "code",
   "execution_count": 17,
   "metadata": {},
   "outputs": [
    {
     "data": {
      "image/png": "[encoded data removed]",
      "text/plain": [
       "<Figure size 432x288 with 1 Axes>"
      ]
     },
     "metadata": {
      "needs_background": "light"
     },
     "output_type": "display_data"
    }
   ],
   "source": [
    "# plot rf mae metric variation\n",
    "pyplot.title('RF Variação MAE em 10-Folds')\n",
    "pyplot.plot(all_train_mae, label='Treino')\n",
    "pyplot.plot(all_test_mae, label='Teste')\n",
    "pyplot.xlim(0,9)\n",
    "pyplot.xlabel(\"Execuções do Modelo\")\n",
    "pyplot.legend()\n",
    "pyplot.show()"
   ]
  }
 ],
 "metadata": {
  "kernelspec": {
   "display_name": "Python 3",
   "language": "python",
   "name": "python3"
  },
  "language_info": {
   "codemirror_mode": {
    "name": "ipython",
    "version": 3
   },
   "file_extension": ".py",
   "mimetype": "text/x-python",
   "name": "python",
   "nbconvert_exporter": "python",
   "pygments_lexer": "ipython3",
   "version": "3.7.3"
  }
 },
 "nbformat": 4,
 "nbformat_minor": 2
}
