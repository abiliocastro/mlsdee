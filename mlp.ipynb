{
 "cells": [
  {
   "cell_type": "code",
   "execution_count": 55,
   "metadata": {},
   "outputs": [],
   "source": [
    "# importing libraries\n",
    "import keras\n",
    "import numpy as np\n",
    "from sklearn.preprocessing import StandardScaler\n",
    "from sklearn.model_selection import KFold\n",
    "from numpy import loadtxt\n",
    "from numpy import reshape\n",
    "from keras.models import Sequential\n",
    "from keras.layers import Dense, Dropout, Activation\n",
    "from keras import metrics\n",
    "from keras import backend as K\n",
    "from keras.utils.vis_utils import plot_model\n",
    "from sklearn.model_selection import KFold\n",
    "from matplotlib import pyplot"
   ]
  },
  {
   "cell_type": "code",
   "execution_count": 56,
   "metadata": {},
   "outputs": [],
   "source": [
    "# setting numpy print option\n",
    "np.set_printoptions(suppress=True)"
   ]
  },
  {
   "cell_type": "code",
   "execution_count": 57,
   "metadata": {},
   "outputs": [
    {
     "name": "stdout",
     "output_type": "stream",
     "text": [
      "(77, 12)\n"
     ]
    }
   ],
   "source": [
    "# load the dataset\n",
    "dataset = loadtxt('desharnais.csv', delimiter=',')\n",
    "print(dataset.shape)"
   ]
  },
  {
   "cell_type": "code",
   "execution_count": 58,
   "metadata": {},
   "outputs": [],
   "source": [
    "# selecting input and output for kfold\n",
    "X = np.delete(dataset, [0,3,5], axis=1)\n",
    "y = dataset[:,5]"
   ]
  },
  {
   "cell_type": "code",
   "execution_count": 59,
   "metadata": {},
   "outputs": [],
   "source": [
    "# model estructuration\n",
    "model = Sequential()\n",
    "model.add(Dense(64, input_dim=9))\n",
    "model.add(Activation('relu'))\n",
    "model.add(Dropout(0.5))\n",
    "model.add(Dense(1, activation='linear'))"
   ]
  },
  {
   "cell_type": "code",
   "execution_count": 60,
   "metadata": {},
   "outputs": [],
   "source": [
    "# compile model\n",
    "model.compile(loss='mean_absolute_error', optimizer='adam', metrics=[metrics.mse, metrics.mae])"
   ]
  },
  {
   "cell_type": "code",
   "execution_count": 61,
   "metadata": {},
   "outputs": [
    {
     "name": "stdout",
     "output_type": "stream",
     "text": [
      "FOLD: 1\n",
      "TRAIN | mse: 0.183, mae: 0.251\n",
      "TEST  | mse: 0.630, mae: 0.613\n",
      "FOLD: 2\n",
      "TRAIN | mse: 0.319, mae: 0.276\n",
      "TEST  | mse: 0.868, mae: 0.693\n",
      "FOLD: 3\n",
      "TRAIN | mse: 0.208, mae: 0.207\n",
      "TEST  | mse: 1.166, mae: 0.713\n",
      "FOLD: 4\n",
      "TRAIN | mse: 0.525, mae: 0.292\n",
      "TEST  | mse: 1.292, mae: 0.869\n",
      "FOLD: 5\n",
      "TRAIN | mse: 1.151, mae: 0.370\n",
      "TEST  | mse: 1.559, mae: 0.940\n",
      "FOLD: 6\n",
      "TRAIN | mse: 4.950, mae: 0.610\n",
      "TEST  | mse: 0.385, mae: 0.482\n",
      "FOLD: 7\n",
      "TRAIN | mse: 1.044, mae: 0.358\n",
      "TEST  | mse: 1.264, mae: 0.580\n",
      "FOLD: 8\n",
      "TRAIN | mse: 1.219, mae: 0.373\n",
      "TEST  | mse: 2.050, mae: 0.932\n",
      "FOLD: 9\n",
      "TRAIN | mse: 1.317, mae: 0.345\n",
      "TEST  | mse: 3.758, mae: 0.959\n",
      "FOLD: 10\n",
      "TRAIN | mse: 0.187, mae: 0.206\n",
      "TEST  | mse: 0.982, mae: 0.800\n"
     ]
    }
   ],
   "source": [
    "# kfold split\n",
    "# model training and evaluation\n",
    "kf = KFold(n_splits=10)\n",
    "f = 1\n",
    "for train_index, test_index in kf.split(X):\n",
    "    # defining train and test sets for input and output\n",
    "    X_train, X_test = X[train_index], X[test_index]\n",
    "    y_train, y_test = y[train_index], y[test_index]\n",
    "    \n",
    "    # standardize dataset\n",
    "    ss = StandardScaler()\n",
    "    # train standardize\n",
    "    sclXtrain = ss.fit(X_train)\n",
    "    X_train = sclXtrain.transform(X_train)\n",
    "    sclYtrain = ss.fit(y_train.reshape(-1,1))\n",
    "    y_train = sclYtrain.transform(y_train.reshape(-1,1))\n",
    "\n",
    "    # test standardize\n",
    "    sclXtest = ss.fit(X_test)\n",
    "    X_test = sclXtest.transform(X_test)\n",
    "    sclYtest = ss.fit(y_test.reshape(-1,1))\n",
    "    y_test = sclYtest.transform(y_test.reshape(-1,1))\n",
    "    \n",
    "    # fit the keras model on the dataset\n",
    "    model.fit(X_train, y_train, epochs=1000, batch_size=10, validation_split=0.2, verbose=0)\n",
    "    \n",
    "    # evaluate the model 3 metrics\n",
    "    _,train_mse,train_mae = model.evaluate(X_train, y_train, verbose=0)\n",
    "    _,test_mse,test_mae = model.evaluate(X_test, y_test, verbose=0)\n",
    "    \n",
    "    # storing each fold metrics in nparray\n",
    "    all_train_mse = np.append(all_train_mse,train_mse)\n",
    "    all_train_mae = np.append(all_train_mae,train_mae)\n",
    "    all_test_mse = np.append(all_test_mse,test_mse)\n",
    "    all_test_mae = np.append(all_test_mae,test_mae)\n",
    "    \n",
    "    print('FOLD: %d' % f)\n",
    "    print('TRAIN | mse: %.3f, mae: %.3f' % (train_mse, train_mae))\n",
    "    print('TEST  | mse: %.3f, mae: %.3f' % (test_mse, test_mae))\n",
    "    f+=1"
   ]
  },
  {
   "cell_type": "code",
   "execution_count": 62,
   "metadata": {},
   "outputs": [
    {
     "name": "stdout",
     "output_type": "stream",
     "text": [
      "MLP TRAIN METRICS MEAN AFTER 10 FOLDS\n",
      "MSE: 1.084 | MAE: 0.327\n",
      "MLP TEST METRICS MEAN AFTER 10 FOLDS\n",
      "MSE: 1.613 | MAE: 0.713\n"
     ]
    }
   ],
   "source": [
    "mean_mse_train = np.mean(all_train_mse)\n",
    "mean_mae_train = np.mean(all_train_mae)\n",
    "mean_mse_test = np.mean(all_test_mse)\n",
    "mean_mae_test = np.mean(all_test_mae)\n",
    "\n",
    "print('MLP TRAIN METRICS MEAN AFTER 10 FOLDS')\n",
    "print('MSE: %.3f | MAE: %.3f' % (mean_mse_train, mean_mae_train))\n",
    "print('MLP TEST METRICS MEAN AFTER 10 FOLDS')\n",
    "print('MSE: %.3f | MAE: %.3f' % (mean_mse_test, mean_mae_test))"
   ]
  },
  {
   "cell_type": "code",
   "execution_count": 54,
   "metadata": {},
   "outputs": [
    {
     "data": {
      "image/png": "[encoded data removed]",
      "text/plain": [
       "<Figure size 432x288 with 1 Axes>"
      ]
     },
     "metadata": {
      "needs_background": "light"
     },
     "output_type": "display_data"
    }
   ],
   "source": [
    "# plot mlp metrics variation\n",
    "pyplot.title('MLP Variação das Métricas em 10 Folds')\n",
    "pyplot.plot(all_train_mse, label='MSE Treino')\n",
    "pyplot.plot(all_test_mse, label='MSE Teste')\n",
    "pyplot.plot(all_train_mae, label='MAE Treino')\n",
    "pyplot.plot(all_test_mae, label='MAE Teste')\n",
    "pyplot.legend()\n",
    "pyplot.show()"
   ]
  }
 ],
 "metadata": {
  "kernelspec": {
   "display_name": "Python 3",
   "language": "python",
   "name": "python3"
  },
  "language_info": {
   "codemirror_mode": {
    "name": "ipython",
    "version": 3
   },
   "file_extension": ".py",
   "mimetype": "text/x-python",
   "name": "python",
   "nbconvert_exporter": "python",
   "pygments_lexer": "ipython3",
   "version": "3.7.3"
  }
 },
 "nbformat": 4,
 "nbformat_minor": 2
}
