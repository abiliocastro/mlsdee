{
 "cells": [
  {
   "cell_type": "code",
   "execution_count": 1,
   "metadata": {},
   "outputs": [
    {
     "name": "stderr",
     "output_type": "stream",
     "text": [
      "Using TensorFlow backend.\n",
      "/home/abilio/anaconda3/lib/python3.7/site-packages/tensorflow/python/framework/dtypes.py:516: FutureWarning: Passing (type, 1) or '1type' as a synonym of type is deprecated; in a future version of numpy, it will be understood as (type, (1,)) / '(1,)type'.\n",
      "  _np_qint8 = np.dtype([(\"qint8\", np.int8, 1)])\n",
      "/home/abilio/anaconda3/lib/python3.7/site-packages/tensorflow/python/framework/dtypes.py:517: FutureWarning: Passing (type, 1) or '1type' as a synonym of type is deprecated; in a future version of numpy, it will be understood as (type, (1,)) / '(1,)type'.\n",
      "  _np_quint8 = np.dtype([(\"quint8\", np.uint8, 1)])\n",
      "/home/abilio/anaconda3/lib/python3.7/site-packages/tensorflow/python/framework/dtypes.py:518: FutureWarning: Passing (type, 1) or '1type' as a synonym of type is deprecated; in a future version of numpy, it will be understood as (type, (1,)) / '(1,)type'.\n",
      "  _np_qint16 = np.dtype([(\"qint16\", np.int16, 1)])\n",
      "/home/abilio/anaconda3/lib/python3.7/site-packages/tensorflow/python/framework/dtypes.py:519: FutureWarning: Passing (type, 1) or '1type' as a synonym of type is deprecated; in a future version of numpy, it will be understood as (type, (1,)) / '(1,)type'.\n",
      "  _np_quint16 = np.dtype([(\"quint16\", np.uint16, 1)])\n",
      "/home/abilio/anaconda3/lib/python3.7/site-packages/tensorflow/python/framework/dtypes.py:520: FutureWarning: Passing (type, 1) or '1type' as a synonym of type is deprecated; in a future version of numpy, it will be understood as (type, (1,)) / '(1,)type'.\n",
      "  _np_qint32 = np.dtype([(\"qint32\", np.int32, 1)])\n",
      "/home/abilio/anaconda3/lib/python3.7/site-packages/tensorflow/python/framework/dtypes.py:525: FutureWarning: Passing (type, 1) or '1type' as a synonym of type is deprecated; in a future version of numpy, it will be understood as (type, (1,)) / '(1,)type'.\n",
      "  np_resource = np.dtype([(\"resource\", np.ubyte, 1)])\n",
      "/home/abilio/anaconda3/lib/python3.7/site-packages/tensorboard/compat/tensorflow_stub/dtypes.py:541: FutureWarning: Passing (type, 1) or '1type' as a synonym of type is deprecated; in a future version of numpy, it will be understood as (type, (1,)) / '(1,)type'.\n",
      "  _np_qint8 = np.dtype([(\"qint8\", np.int8, 1)])\n",
      "/home/abilio/anaconda3/lib/python3.7/site-packages/tensorboard/compat/tensorflow_stub/dtypes.py:542: FutureWarning: Passing (type, 1) or '1type' as a synonym of type is deprecated; in a future version of numpy, it will be understood as (type, (1,)) / '(1,)type'.\n",
      "  _np_quint8 = np.dtype([(\"quint8\", np.uint8, 1)])\n",
      "/home/abilio/anaconda3/lib/python3.7/site-packages/tensorboard/compat/tensorflow_stub/dtypes.py:543: FutureWarning: Passing (type, 1) or '1type' as a synonym of type is deprecated; in a future version of numpy, it will be understood as (type, (1,)) / '(1,)type'.\n",
      "  _np_qint16 = np.dtype([(\"qint16\", np.int16, 1)])\n",
      "/home/abilio/anaconda3/lib/python3.7/site-packages/tensorboard/compat/tensorflow_stub/dtypes.py:544: FutureWarning: Passing (type, 1) or '1type' as a synonym of type is deprecated; in a future version of numpy, it will be understood as (type, (1,)) / '(1,)type'.\n",
      "  _np_quint16 = np.dtype([(\"quint16\", np.uint16, 1)])\n",
      "/home/abilio/anaconda3/lib/python3.7/site-packages/tensorboard/compat/tensorflow_stub/dtypes.py:545: FutureWarning: Passing (type, 1) or '1type' as a synonym of type is deprecated; in a future version of numpy, it will be understood as (type, (1,)) / '(1,)type'.\n",
      "  _np_qint32 = np.dtype([(\"qint32\", np.int32, 1)])\n",
      "/home/abilio/anaconda3/lib/python3.7/site-packages/tensorboard/compat/tensorflow_stub/dtypes.py:550: FutureWarning: Passing (type, 1) or '1type' as a synonym of type is deprecated; in a future version of numpy, it will be understood as (type, (1,)) / '(1,)type'.\n",
      "  np_resource = np.dtype([(\"resource\", np.ubyte, 1)])\n"
     ]
    }
   ],
   "source": [
    "# importing libraries\n",
    "import keras\n",
    "import numpy as np\n",
    "from sklearn.preprocessing import StandardScaler\n",
    "from sklearn.model_selection import KFold\n",
    "from numpy import loadtxt\n",
    "from numpy import reshape\n",
    "from keras.models import Sequential\n",
    "from keras.layers import Dense, Dropout, Activation\n",
    "from keras import metrics\n",
    "from keras import backend as K\n",
    "from keras.utils.vis_utils import plot_model\n",
    "from sklearn.model_selection import KFold\n",
    "from matplotlib import pyplot"
   ]
  },
  {
   "cell_type": "code",
   "execution_count": 2,
   "metadata": {},
   "outputs": [],
   "source": [
    "# setting numpy print option\n",
    "np.set_printoptions(suppress=True)"
   ]
  },
  {
   "cell_type": "code",
   "execution_count": 3,
   "metadata": {},
   "outputs": [
    {
     "name": "stdout",
     "output_type": "stream",
     "text": [
      "(77, 12)\n"
     ]
    }
   ],
   "source": [
    "# load the dataset\n",
    "dataset = loadtxt('desharnais.csv', delimiter=',')\n",
    "print(dataset.shape)"
   ]
  },
  {
   "cell_type": "code",
   "execution_count": 4,
   "metadata": {},
   "outputs": [],
   "source": [
    "# selecting input and output for kfold\n",
    "X = np.delete(dataset, [0,3,5], axis=1)\n",
    "y = dataset[:,5]"
   ]
  },
  {
   "cell_type": "code",
   "execution_count": 5,
   "metadata": {},
   "outputs": [],
   "source": [
    "# model estructuration\n",
    "model = Sequential()\n",
    "model.add(Dense(64, input_dim=9))\n",
    "model.add(Activation('relu'))\n",
    "model.add(Dropout(0.5))\n",
    "model.add(Dense(1, activation='linear'))"
   ]
  },
  {
   "cell_type": "code",
   "execution_count": 6,
   "metadata": {},
   "outputs": [],
   "source": [
    "# compile model\n",
    "model.compile(loss='mean_absolute_error', optimizer='adam', metrics=[metrics.mse, metrics.mae])"
   ]
  },
  {
   "cell_type": "code",
   "execution_count": 7,
   "metadata": {},
   "outputs": [
    {
     "name": "stdout",
     "output_type": "stream",
     "text": [
      "WARNING:tensorflow:From /home/abilio/anaconda3/lib/python3.7/site-packages/keras/backend/tensorflow_backend.py:422: The name tf.global_variables is deprecated. Please use tf.compat.v1.global_variables instead.\n",
      "\n",
      "FOLD: 1\n",
      "TRAIN | mse: 0.193, mae: 0.243\n",
      "TEST  | mse: 0.739, mae: 0.698\n",
      "FOLD: 2\n",
      "TRAIN | mse: 0.386, mae: 0.281\n",
      "TEST  | mse: 1.201, mae: 0.630\n",
      "FOLD: 3\n",
      "TRAIN | mse: 0.236, mae: 0.233\n",
      "TEST  | mse: 1.165, mae: 0.729\n",
      "FOLD: 4\n",
      "TRAIN | mse: 0.762, mae: 0.319\n",
      "TEST  | mse: 1.524, mae: 0.979\n",
      "FOLD: 5\n",
      "TRAIN | mse: 1.269, mae: 0.370\n",
      "TEST  | mse: 0.887, mae: 0.735\n",
      "FOLD: 6\n",
      "TRAIN | mse: 2.723, mae: 0.477\n",
      "TEST  | mse: 0.464, mae: 0.486\n",
      "FOLD: 7\n",
      "TRAIN | mse: 0.667, mae: 0.309\n",
      "TEST  | mse: 0.811, mae: 0.597\n",
      "FOLD: 8\n",
      "TRAIN | mse: 1.512, mae: 0.361\n",
      "TEST  | mse: 0.579, mae: 0.502\n",
      "FOLD: 9\n",
      "TRAIN | mse: 2.145, mae: 0.382\n",
      "TEST  | mse: 3.498, mae: 0.853\n",
      "FOLD: 10\n",
      "TRAIN | mse: 0.141, mae: 0.192\n",
      "TEST  | mse: 0.434, mae: 0.542\n"
     ]
    }
   ],
   "source": [
    "# kfold split\n",
    "# model training and evaluation\n",
    "kf = KFold(n_splits=10)\n",
    "f = 1\n",
    "all_train_mse = np.array([])\n",
    "all_train_mae = np.array([])\n",
    "all_test_mse = np.array([])\n",
    "all_test_mae = np.array([])\n",
    "for train_index, test_index in kf.split(X):\n",
    "    # defining train and test sets for input and output\n",
    "    X_train, X_test = X[train_index], X[test_index]\n",
    "    y_train, y_test = y[train_index], y[test_index]\n",
    "    \n",
    "    # standardize dataset\n",
    "    ss = StandardScaler()\n",
    "    # train standardize\n",
    "    sclXtrain = ss.fit(X_train)\n",
    "    X_train = sclXtrain.transform(X_train)\n",
    "    sclYtrain = ss.fit(y_train.reshape(-1,1))\n",
    "    y_train = sclYtrain.transform(y_train.reshape(-1,1))\n",
    "\n",
    "    # test standardize\n",
    "    sclXtest = ss.fit(X_test)\n",
    "    X_test = sclXtest.transform(X_test)\n",
    "    sclYtest = ss.fit(y_test.reshape(-1,1))\n",
    "    y_test = sclYtest.transform(y_test.reshape(-1,1))\n",
    "    \n",
    "    # fit the keras model on the dataset\n",
    "    model.fit(X_train, y_train, epochs=1000, batch_size=10, validation_split=0.2, verbose=0)\n",
    "    \n",
    "    # evaluate the model 3 metrics\n",
    "    _,train_mse,train_mae = model.evaluate(X_train, y_train, verbose=0)\n",
    "    _,test_mse,test_mae = model.evaluate(X_test, y_test, verbose=0)\n",
    "    \n",
    "    # storing each fold metrics in nparray\n",
    "    all_train_mse = np.append(all_train_mse,train_mse)\n",
    "    all_train_mae = np.append(all_train_mae,train_mae)\n",
    "    all_test_mse = np.append(all_test_mse,test_mse)\n",
    "    all_test_mae = np.append(all_test_mae,test_mae)\n",
    "    \n",
    "    print('FOLD: %d' % f)\n",
    "    print('TRAIN | mse: %.3f, mae: %.3f' % (train_mse, train_mae))\n",
    "    print('TEST  | mse: %.3f, mae: %.3f' % (test_mse, test_mae))\n",
    "    f+=1"
   ]
  },
  {
   "cell_type": "code",
   "execution_count": 9,
   "metadata": {},
   "outputs": [
    {
     "name": "stdout",
     "output_type": "stream",
     "text": [
      "MLP TRAIN METRICS MEAN AFTER 10 FOLDS\n",
      "MSE: 1.003 | MAE: 0.317\n",
      "MLP TEST METRICS MEAN AFTER 10 FOLDS\n",
      "MSE: 1.130 | MAE: 0.675\n"
     ]
    }
   ],
   "source": [
    "mean_mse_train = np.mean(all_train_mse)\n",
    "mean_mae_train = np.mean(all_train_mae)\n",
    "mean_mse_test = np.mean(all_test_mse)\n",
    "mean_mae_test = np.mean(all_test_mae)\n",
    "\n",
    "print('MLP TRAIN METRICS MEAN AFTER 10 FOLDS')\n",
    "print('MSE: %.3f | MAE: %.3f' % (mean_mse_train, mean_mae_train))\n",
    "print('MLP TEST METRICS MEAN AFTER 10 FOLDS')\n",
    "print('MSE: %.3f | MAE: %.3f' % (mean_mse_test, mean_mae_test))"
   ]
  },
  {
   "cell_type": "code",
   "execution_count": 10,
   "metadata": {},
   "outputs": [
    {
     "data": {
      "image/png": "[encoded data removed]",
      "text/plain": [
       "<Figure size 432x288 with 1 Axes>"
      ]
     },
     "metadata": {
      "needs_background": "light"
     },
     "output_type": "display_data"
    }
   ],
   "source": [
    "# plot mlp metrics variation\n",
    "pyplot.title('MLP Variação das Métricas em 10-Folds')\n",
    "pyplot.plot(all_train_mse, label='MSE Treino')\n",
    "pyplot.plot(all_test_mse, label='MSE Teste')\n",
    "pyplot.plot(all_train_mae, label='MAE Treino')\n",
    "pyplot.plot(all_test_mae, label='MAE Teste')\n",
    "pyplot.xlim(0,9)\n",
    "pyplot.xlabel(\"Execuções do Modelo\")\n",
    "pyplot.legend()\n",
    "pyplot.show()"
   ]
  }
 ],
 "metadata": {
  "kernelspec": {
   "display_name": "Python 3",
   "language": "python",
   "name": "python3"
  },
  "language_info": {
   "codemirror_mode": {
    "name": "ipython",
    "version": 3
   },
   "file_extension": ".py",
   "mimetype": "text/x-python",
   "name": "python",
   "nbconvert_exporter": "python",
   "pygments_lexer": "ipython3",
   "version": "3.7.3"
  }
 },
 "nbformat": 4,
 "nbformat_minor": 2
}
